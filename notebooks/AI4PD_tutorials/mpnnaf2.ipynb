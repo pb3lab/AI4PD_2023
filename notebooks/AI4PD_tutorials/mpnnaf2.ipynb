{
 "cells": [
  {
   "cell_type": "markdown",
   "metadata": {},
   "source": [
    "aws settings:\n",
    "Image: Data Science 3.0\n",
    "Instance: ml.g4dn.xlarge\n",
    "\n",
    "First install the jax version of colabdesign"
   ]
  },
  {
   "cell_type": "code",
   "execution_count": null,
   "metadata": {},
   "outputs": [],
   "source": [
    "%%bash\n",
    "pip install -U \"jax[cuda11_pip]\" -f https://storage.googleapis.com/jax-releases/jax_cuda_releases.html\n",
    "pip install git+https://github.com/sokrypton/ColabDesign.git\n",
    "mkdir params\n",
    "wget -qnc  https://storage.googleapis.com/alphafold/alphafold_params_2022-12-06.tar\n",
    "tar -xf alphafold_params_2022-12-06.tar -C params"
   ]
  },
  {
   "cell_type": "code",
   "execution_count": null,
   "metadata": {},
   "outputs": [],
   "source": [
    "!mkdir -p /root/AI4PD_2023/notebooks/AI4PD_tutorials/data/results/rfdiffusion/binder/af2/\n",
    "contig=\"80-80:B1-196\"\n",
    "rfpdb=\"/root/AI4PD_2023/notebooks/AI4PD_tutorials/data/results/rfdiffusion/binder/il7_0.pdb\"\n",
    "output=\"/root/AI4PD_2023/notebooks/AI4PD_tutorials/data/results/rfdiffusion/binder/af2/\""
   ]
  },
  {
   "cell_type": "code",
   "execution_count": null,
   "metadata": {},
   "outputs": [],
   "source": [
    "!python3 /opt/conda/lib/python3.10/site-packages/colabdesign/rf/designability_test.py --pdb={rfpdb} --loc={output} --contigs={contig} --initial_guess --num_seqs=8"
   ]
  },
  {
   "cell_type": "code",
   "execution_count": null,
   "metadata": {},
   "outputs": [],
   "source": [
    "import os\n",
    "import py3Dmol\n",
    "\n",
    "def extract_structures_from_dir(directory):\n",
    "    pdb_files = [f for f in os.listdir(directory) if f.endswith('.pdb')]\n",
    "    structures = []\n",
    "    for pdb_file in pdb_files:\n",
    "        with open(os.path.join(directory, pdb_file), 'r') as file:\n",
    "            structures.append(file.read())\n",
    "    return structures\n",
    "\n",
    "structures = extract_structures_from_dir(\"/root/AI4PD_2023/notebooks/AI4PD_tutorials/data/results/rfdiffusion/binder/af2/all_pdb\")  # replace with your directory\n",
    "\n",
    "# Display each structure in a separate window\n",
    "for structure in structures:\n",
    "    view = py3Dmol.view()\n",
    "    view.addModel(structure, format=\"pdb\")\n",
    "    view.setStyle({\"chain\": \"B\"}, {\"cartoon\": {\"color\": \"blue\", \"opacity\": 0.6}})\n",
    "    view.setStyle({\"chain\": \"A\"}, {\"cartoon\": {\"color\": \"green\"}})\n",
    "    view.zoomTo()\n",
    "    view.show()"
   ]
  }
 ],
 "metadata": {
  "language_info": {
   "name": "python"
  },
  "orig_nbformat": 4
 },
 "nbformat": 4,
 "nbformat_minor": 2
}
