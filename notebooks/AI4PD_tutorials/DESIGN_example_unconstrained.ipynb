{
 "cells": [
  {
   "cell_type": "markdown",
   "id": "c35e567a-517a-4995-8aa9-350d777d6c34",
   "metadata": {
    "tags": []
   },
   "source": [
    "Run Protein Structure Design and Protein Structure Prediction"
   ]
  },
  {
   "cell_type": "markdown",
   "id": "349a9fdf-0b63-4439-bd00-13405b03e142",
   "metadata": {},
   "source": [
    "NOTE: The authors recommend running this notebook in Amazon SageMaker Studio with the following environment settings:  \n",
    "* **PyTorch 1.13 Python 3.9 GPU-optimized** image  \n",
    "* **Python 3** kernel  \n",
    "* **ml.g4dn.xlarge** instance type "
   ]
  },
  {
   "cell_type": "markdown",
   "id": "a7d6f50f-8480-4776-acb4-0011962b6641",
   "metadata": {},
   "source": [
    "Analyzing large macromolecules like proteins is an essential part of designing new therapeutics. Recently, a number of deep-learning based approaches have improved the speed and accuracy of protein structure analysis. Some of these methods are shown in the image below.\n",
    "\n",
    "In this module, we will use several AI algorithms to design a protein binder to XY. \n",
    "\n",
    "* [RFDiffusion](https://github.com/RosettaCommons/RFdiffusion) is used to generate a small number of variant designs. We will only attempt to redesign parts of the variable region.\n",
    "* [ProteinMPNN](https://github.com/dauparas/ProteinMPNN) is then used to discover novel sequences that are expected to fold to the novel structure.\n",
    "* [ESMFold](https://github.com/facebookresearch/esm) is then used to score each of the candidate proteins. ESMFold returns the average predicted local distance difference test (pLDDT) score; which represents the confidence (averaged over all residues) in the predicted structure. This will be used to assess whether the predicted structure is likely to be correct.\n",
    "For running ESMFold, we will use the ESMFold endpoint deployed in Module 1, so please ensure that you have run that module **before** running this one."
   ]
  },
  {
   "cell_type": "markdown",
   "id": "f3439cfe-4302-4c67-81d6-ab416019f5f4",
   "metadata": {},
   "source": [
    "---\n",
    "## 1. Setup and installation"
   ]
  },
  {
   "cell_type": "markdown",
   "id": "954d42aa-dc06-4dd4-88e7-4e154b6c8429",
   "metadata": {},
   "source": [
    "Install RFDiffusion and it's dependencies"
   ]
  },
  {
   "cell_type": "code",
   "execution_count": null,
   "id": "715d02b9-dc64-4fec-b8de-dd76f2df32c9",
   "metadata": {
    "tags": []
   },
   "outputs": [],
   "source": [
    "%pip install -U -q -r protein-design-requirements.txt --disable-pip-version-check"
   ]
  },
  {
   "cell_type": "markdown",
   "id": "0c147e3f-f8aa-4f69-adf5-7b8a2229f263",
   "metadata": {},
   "source": [
    "Download and extract the RFDiffusion and ProteinMPNN model weights (This will take several minutes)"
   ]
  },
  {
   "cell_type": "code",
   "execution_count": null,
   "id": "646e223b",
   "metadata": {},
   "outputs": [],
   "source": [
    "!pip install prody\n",
    "!pip install py3Dmol"
   ]
  },
  {
   "cell_type": "code",
   "execution_count": null,
   "id": "64bc76b6-4ff0-4595-b1fa-300a705be5cb",
   "metadata": {
    "tags": []
   },
   "outputs": [],
   "source": [
    "%%bash\n",
    "mkdir -p \"data/weights/rfdiffusion\" \"data/weights/proteinmpnn\" \n",
    "aws s3 cp --no-sign-request \"s3://aws-batch-architecture-for-alphafold-public-artifacts/compressed/rfdiffusion_parameters_220407.tar.gz\" \"weights.tar.gz\"\n",
    "tar --extract -z --file=\"weights.tar.gz\" --directory=\"data/weights/rfdiffusion\" --no-same-owner\n",
    "rm \"weights.tar.gz\"\n",
    "wget -q -P \"data/weights/proteinmpnn\" https://github.com/dauparas/ProteinMPNN/raw/main/vanilla_model_weights/v_48_020.pt\n",
    "wget -q -P \"data\" https://files.rcsb.org/download/1N8Z.pdb\n",
    "\n",
    "## Prep PDBS."
   ]
  },
  {
   "cell_type": "markdown",
   "id": "d3856c56-e4e7-4e3d-a743-e501215ce6a1",
   "metadata": {
    "tags": []
   },
   "source": [
    "We can change the number in the congits=[], to specify the length of the protein that we want to generate by diffusion.\n",
    "\n",
    "TheR FDiffusion job will take about 5 minutes to complete on a ml.g4dn.xlarge instance type."
   ]
  },
  {
   "cell_type": "code",
   "execution_count": null,
   "id": "d6c003d7-6f06-4da7-b25c-44d77334d126",
   "metadata": {
    "tags": []
   },
   "outputs": [],
   "source": [
    "%%time\n",
    "!mkdir -p data/results/rfdiffusion\n",
    "from prothelpers.rfdiffusion import create_structures\n",
    "create_structures(\n",
    "    overrides=[\n",
    "        \"inference.output_prefix=data/results/rfdiffusion/rfdiffusion_result\",\n",
    "        \"inference.model_directory_path=data/weights/rfdiffusion\",\n",
    "        \"contigmap.contigs=[100-100]\",\n",
    "        \"inference.num_designs=4\",\n",
    "        \"inference.input_pdb=/root/AI4PD_2023/RFdiffusion/examples/input_pdbs/1qys.pdb\" \\\n",
    "\n",
    "    ]\n",
    ")"
   ]
  },
  {
   "cell_type": "markdown",
   "id": "584e90b6",
   "metadata": {},
   "source": []
  },
  {
   "cell_type": "markdown",
   "id": "6f2a0b2f-9e50-4501-a81a-2e0314516b7b",
   "metadata": {},
   "source": [
    "Our new designs are in the `data/results/rfdiffusion` folder. Let's take a look at them."
   ]
  },
  {
   "cell_type": "code",
   "execution_count": null,
   "id": "0309a81c-c345-466b-b8ab-dc4e4d9817fe",
   "metadata": {
    "tags": []
   },
   "outputs": [],
   "source": [
    "import os\n",
    "import py3Dmol\n",
    "\n",
    "def extract_structures_from_dir(directory):\n",
    "    pdb_files = [f for f in os.listdir(directory) if f.endswith('.pdb')]\n",
    "    structures = []\n",
    "    for pdb_file in pdb_files:\n",
    "        with open(os.path.join(directory, pdb_file), 'r') as file:\n",
    "            structures.append(file.read())\n",
    "    return structures\n",
    "\n",
    "structures = extract_structures_from_dir('data/results/rfdiffusion')  # replace with your directory\n",
    "\n",
    "# Display each structure in a separate window\n",
    "for structure in structures:\n",
    "    view = py3Dmol.view()\n",
    "    view.addModel(structure, format=\"pdb\")\n",
    "    view.setStyle({\"chain\": \"A\"}, {\"cartoon\": {\"color\": \"blue\", \"opacity\": 1.0}})\n",
    "    view.zoomTo()\n",
    "    view.show()\n"
   ]
  },
  {
   "cell_type": "code",
   "execution_count": null,
   "id": "4b8c5e09",
   "metadata": {},
   "outputs": [],
   "source": []
  },
  {
   "cell_type": "markdown",
   "id": "071f3f9a-306f-4a71-99f5-4a8d8aa5dae1",
   "metadata": {
    "tags": []
   },
   "source": [
    "## 3. Translate Structure into Sequence with ProteinMPNN\n",
    "ProteinMPNN is a tool for **inverse protein folding**. In inverse protein folding, the input is a protien tertiary structure, while the output is a sequence (or sequences) that are predicted to fold in the specified structure. Here is a schematic for how it works:\n",
    "<div style=\"text-align: left;\">\n",
    "    <img src=\"img/06.png\" alt=\"A diagram of inverse protein folding\" width=\"700\" />\n",
    "</div>\n",
    "                        \n",
    "*image credit: https://huggingface.co/spaces/simonduerr/ProteinMPNN.*        \n",
    "                               \n",
    "ProteinMPNN will returns the sequences in [FASTA format]\n"
   ]
  },
  {
   "cell_type": "markdown",
   "id": "f4ed84e5-1024-4bf2-a573-162fce30615e",
   "metadata": {},
   "source": [
    "We gather the locations of the RFDiffusion output structures and submit them to ProteinMPNN. This will take about 15 seconds on a ml.g4dn.xlarge instance."
   ]
  },
  {
   "cell_type": "code",
   "execution_count": null,
   "id": "001e2f63-2feb-444a-be25-578dcc486736",
   "metadata": {
    "tags": []
   },
   "outputs": [],
   "source": [
    "%%time\n",
    "!mkdir -p data/results/proteinmpnn\n",
    "\n",
    "from prothelpers import proteinmpnn\n",
    "from prothelpers.sequence import list_files_in_dir\n",
    "\n",
    "rfdiffusion_candidates = list_files_in_dir(rfdiffusion_results_dir, extension=\".pdb\")\n",
    "\n",
    "proteinmpnn_results_dir = \"data/results/proteinmpnn\"\n",
    "\n",
    "for path in rfdiffusion_candidates:\n",
    "    proteinmpnn.design(\n",
    "        pdb_path=path,\n",
    "        out_folder=proteinmpnn_results_dir,\n",
    "        num_seq_per_target=8,\n",
    "        pdb_path_chains=\"A\",\n",
    "        path_to_model_weights=\"data/weights/proteinmpnn\",\n",
    "        batch_size=1,\n",
    "        suppress_print=1,\n",
    "    )"
   ]
  },
  {
   "cell_type": "markdown",
   "id": "b2886d2d-24a3-46df-83b1-4f81ff4a0dcd",
   "metadata": {},
   "source": [
    "Let's look at the results"
   ]
  },
  {
   "cell_type": "code",
   "execution_count": null,
   "id": "da8f1f07-078f-4a9d-a24f-32382d9cd99e",
   "metadata": {
    "tags": []
   },
   "outputs": [],
   "source": [
    "import os\n",
    "from prothelpers.sequence import extract_seqs_from_dir\n",
    "\n",
    "mpnn_dir = os.path.join(proteinmpnn_results_dir, \"seqs\")\n",
    "mpnn_sequences = extract_seqs_from_dir(mpnn_dir, extension=\"fa\")\n",
    "#print(mpnn_sequences)\n",
    "\n",
    "def to_fasta(sequences):\n",
    "    fasta_format = \"\"\n",
    "    for i, seq in enumerate(sequences, 1):\n",
    "        fasta_format += f\">sequence_{i}\\n{seq}\\n\"\n",
    "    return fasta_format\n",
    "\n",
    "fasta_output = to_fasta(mpnn_sequences)\n",
    "print(fasta_output)\n",
    "\n",
    "# If you want to save the FASTA format to a file:\n",
    "with open(\"output.fasta\", \"w\") as f:\n",
    "    f.write(fasta_output)"
   ]
  },
  {
   "cell_type": "markdown",
   "id": "a30dd6b3-dd23-4ee7-8db6-0776fdb77f2c",
   "metadata": {},
   "source": [
    "## Run Inference with AlphaFold2 on AWS\n",
    "Download the fasta file with the seqeunces you generated with ProteinMPNN.\n",
    "\n",
    "Navigate to the alphfold -->\n",
    "\n",
    "\n",
    "Upload you faste file and submit job.\n"
   ]
  },
  {
   "cell_type": "markdown",
   "id": "f80781fc",
   "metadata": {},
   "source": [
    "## Compare RFdiffusion backbone to AlphaFold2 predicted structure"
   ]
  },
  {
   "cell_type": "code",
   "execution_count": null,
   "id": "f0e0ef81",
   "metadata": {},
   "outputs": [],
   "source": [
    "!pip install prody"
   ]
  },
  {
   "cell_type": "code",
   "execution_count": null,
   "id": "e5bfe733",
   "metadata": {},
   "outputs": [],
   "source": [
    "prediction_pdb = '' # this is the path to your AF2/ESMFold Prediction\n",
    "reference_pdb = '' # this is the path to your original de novo design (prior to sequence design)"
   ]
  },
  {
   "cell_type": "code",
   "execution_count": null,
   "id": "d50c1201",
   "metadata": {},
   "outputs": [],
   "source": [
    "def rmsd_calc(pred, ref):\n",
    "    import prody\n",
    "    prody.confProDy(verbosity='none')\n",
    "    \n",
    "    p = prody.parsePDB(pred,subset='ca')\n",
    "    r = prody.parsePDB(ref,subset='ca')\n",
    "    prody.calcTransformation(p,r).apply(p)\n",
    "\n",
    "    return prody.calcRMSD(p, r), p, r\n",
    "\n",
    "def visualize_pdb_overlay(mol1_path, mol2_path):\n",
    "    # Create the viewer with specified dimensions\n",
    "    view = py3Dmol.view(width=400, height=300)\n",
    "    \n",
    "    # Load the first PDB\n",
    "    view.addModel(open(mol1_path, 'r').read(), 'pdb')\n",
    "    \n",
    "    # Load the second PDB\n",
    "    view.addModel(open(mol2_path, 'r').read(), 'pdb')\n",
    "    \n",
    "    # Set style. For demonstration purposes, we'll use different colors for each structure.\n",
    "    view.setStyle({'model': 0}, {\"cartoon\": {'color': 'blue'}})  # First structure in blue\n",
    "    view.setStyle({'model': 1}, {\"cartoon\": {'color': 'red'}})   # Second structure in red\n",
    "    \n",
    "    # Set the background color and zoom to fit the structures\n",
    "    view.setBackgroundColor('white')\n",
    "    view.zoomTo()\n",
    "    \n",
    "    # Display the overlaid PDBs\n",
    "    view.show()\n"
   ]
  },
  {
   "cell_type": "code",
   "execution_count": null,
   "id": "86042766",
   "metadata": {},
   "outputs": [],
   "source": [
    "%time rmsd, p, r = rmsd_calc(pdb_1,pdb_2)\n",
    "print(rmsd)\n",
    "visualize_pdb_overlay(prediction_pdb, reference_pdb)"
   ]
  },
  {
   "cell_type": "code",
   "execution_count": null,
   "id": "7d7afdff",
   "metadata": {},
   "outputs": [],
   "source": []
  }
 ],
 "metadata": {
  "availableInstances": [
   {
    "_defaultOrder": 0,
    "_isFastLaunch": true,
    "category": "General purpose",
    "gpuNum": 0,
    "hideHardwareSpecs": false,
    "memoryGiB": 4,
    "name": "ml.t3.medium",
    "vcpuNum": 2
   },
   {
    "_defaultOrder": 1,
    "_isFastLaunch": false,
    "category": "General purpose",
    "gpuNum": 0,
    "hideHardwareSpecs": false,
    "memoryGiB": 8,
    "name": "ml.t3.large",
    "vcpuNum": 2
   },
   {
    "_defaultOrder": 2,
    "_isFastLaunch": false,
    "category": "General purpose",
    "gpuNum": 0,
    "hideHardwareSpecs": false,
    "memoryGiB": 16,
    "name": "ml.t3.xlarge",
    "vcpuNum": 4
   },
   {
    "_defaultOrder": 3,
    "_isFastLaunch": false,
    "category": "General purpose",
    "gpuNum": 0,
    "hideHardwareSpecs": false,
    "memoryGiB": 32,
    "name": "ml.t3.2xlarge",
    "vcpuNum": 8
   },
   {
    "_defaultOrder": 4,
    "_isFastLaunch": true,
    "category": "General purpose",
    "gpuNum": 0,
    "hideHardwareSpecs": false,
    "memoryGiB": 8,
    "name": "ml.m5.large",
    "vcpuNum": 2
   },
   {
    "_defaultOrder": 5,
    "_isFastLaunch": false,
    "category": "General purpose",
    "gpuNum": 0,
    "hideHardwareSpecs": false,
    "memoryGiB": 16,
    "name": "ml.m5.xlarge",
    "vcpuNum": 4
   },
   {
    "_defaultOrder": 6,
    "_isFastLaunch": false,
    "category": "General purpose",
    "gpuNum": 0,
    "hideHardwareSpecs": false,
    "memoryGiB": 32,
    "name": "ml.m5.2xlarge",
    "vcpuNum": 8
   },
   {
    "_defaultOrder": 7,
    "_isFastLaunch": false,
    "category": "General purpose",
    "gpuNum": 0,
    "hideHardwareSpecs": false,
    "memoryGiB": 64,
    "name": "ml.m5.4xlarge",
    "vcpuNum": 16
   },
   {
    "_defaultOrder": 8,
    "_isFastLaunch": false,
    "category": "General purpose",
    "gpuNum": 0,
    "hideHardwareSpecs": false,
    "memoryGiB": 128,
    "name": "ml.m5.8xlarge",
    "vcpuNum": 32
   },
   {
    "_defaultOrder": 9,
    "_isFastLaunch": false,
    "category": "General purpose",
    "gpuNum": 0,
    "hideHardwareSpecs": false,
    "memoryGiB": 192,
    "name": "ml.m5.12xlarge",
    "vcpuNum": 48
   },
   {
    "_defaultOrder": 10,
    "_isFastLaunch": false,
    "category": "General purpose",
    "gpuNum": 0,
    "hideHardwareSpecs": false,
    "memoryGiB": 256,
    "name": "ml.m5.16xlarge",
    "vcpuNum": 64
   },
   {
    "_defaultOrder": 11,
    "_isFastLaunch": false,
    "category": "General purpose",
    "gpuNum": 0,
    "hideHardwareSpecs": false,
    "memoryGiB": 384,
    "name": "ml.m5.24xlarge",
    "vcpuNum": 96
   },
   {
    "_defaultOrder": 12,
    "_isFastLaunch": false,
    "category": "General purpose",
    "gpuNum": 0,
    "hideHardwareSpecs": false,
    "memoryGiB": 8,
    "name": "ml.m5d.large",
    "vcpuNum": 2
   },
   {
    "_defaultOrder": 13,
    "_isFastLaunch": false,
    "category": "General purpose",
    "gpuNum": 0,
    "hideHardwareSpecs": false,
    "memoryGiB": 16,
    "name": "ml.m5d.xlarge",
    "vcpuNum": 4
   },
   {
    "_defaultOrder": 14,
    "_isFastLaunch": false,
    "category": "General purpose",
    "gpuNum": 0,
    "hideHardwareSpecs": false,
    "memoryGiB": 32,
    "name": "ml.m5d.2xlarge",
    "vcpuNum": 8
   },
   {
    "_defaultOrder": 15,
    "_isFastLaunch": false,
    "category": "General purpose",
    "gpuNum": 0,
    "hideHardwareSpecs": false,
    "memoryGiB": 64,
    "name": "ml.m5d.4xlarge",
    "vcpuNum": 16
   },
   {
    "_defaultOrder": 16,
    "_isFastLaunch": false,
    "category": "General purpose",
    "gpuNum": 0,
    "hideHardwareSpecs": false,
    "memoryGiB": 128,
    "name": "ml.m5d.8xlarge",
    "vcpuNum": 32
   },
   {
    "_defaultOrder": 17,
    "_isFastLaunch": false,
    "category": "General purpose",
    "gpuNum": 0,
    "hideHardwareSpecs": false,
    "memoryGiB": 192,
    "name": "ml.m5d.12xlarge",
    "vcpuNum": 48
   },
   {
    "_defaultOrder": 18,
    "_isFastLaunch": false,
    "category": "General purpose",
    "gpuNum": 0,
    "hideHardwareSpecs": false,
    "memoryGiB": 256,
    "name": "ml.m5d.16xlarge",
    "vcpuNum": 64
   },
   {
    "_defaultOrder": 19,
    "_isFastLaunch": false,
    "category": "General purpose",
    "gpuNum": 0,
    "hideHardwareSpecs": false,
    "memoryGiB": 384,
    "name": "ml.m5d.24xlarge",
    "vcpuNum": 96
   },
   {
    "_defaultOrder": 20,
    "_isFastLaunch": false,
    "category": "General purpose",
    "gpuNum": 0,
    "hideHardwareSpecs": true,
    "memoryGiB": 0,
    "name": "ml.geospatial.interactive",
    "supportedImageNames": [
     "sagemaker-geospatial-v1-0"
    ],
    "vcpuNum": 0
   },
   {
    "_defaultOrder": 21,
    "_isFastLaunch": true,
    "category": "Compute optimized",
    "gpuNum": 0,
    "hideHardwareSpecs": false,
    "memoryGiB": 4,
    "name": "ml.c5.large",
    "vcpuNum": 2
   },
   {
    "_defaultOrder": 22,
    "_isFastLaunch": false,
    "category": "Compute optimized",
    "gpuNum": 0,
    "hideHardwareSpecs": false,
    "memoryGiB": 8,
    "name": "ml.c5.xlarge",
    "vcpuNum": 4
   },
   {
    "_defaultOrder": 23,
    "_isFastLaunch": false,
    "category": "Compute optimized",
    "gpuNum": 0,
    "hideHardwareSpecs": false,
    "memoryGiB": 16,
    "name": "ml.c5.2xlarge",
    "vcpuNum": 8
   },
   {
    "_defaultOrder": 24,
    "_isFastLaunch": false,
    "category": "Compute optimized",
    "gpuNum": 0,
    "hideHardwareSpecs": false,
    "memoryGiB": 32,
    "name": "ml.c5.4xlarge",
    "vcpuNum": 16
   },
   {
    "_defaultOrder": 25,
    "_isFastLaunch": false,
    "category": "Compute optimized",
    "gpuNum": 0,
    "hideHardwareSpecs": false,
    "memoryGiB": 72,
    "name": "ml.c5.9xlarge",
    "vcpuNum": 36
   },
   {
    "_defaultOrder": 26,
    "_isFastLaunch": false,
    "category": "Compute optimized",
    "gpuNum": 0,
    "hideHardwareSpecs": false,
    "memoryGiB": 96,
    "name": "ml.c5.12xlarge",
    "vcpuNum": 48
   },
   {
    "_defaultOrder": 27,
    "_isFastLaunch": false,
    "category": "Compute optimized",
    "gpuNum": 0,
    "hideHardwareSpecs": false,
    "memoryGiB": 144,
    "name": "ml.c5.18xlarge",
    "vcpuNum": 72
   },
   {
    "_defaultOrder": 28,
    "_isFastLaunch": false,
    "category": "Compute optimized",
    "gpuNum": 0,
    "hideHardwareSpecs": false,
    "memoryGiB": 192,
    "name": "ml.c5.24xlarge",
    "vcpuNum": 96
   },
   {
    "_defaultOrder": 29,
    "_isFastLaunch": true,
    "category": "Accelerated computing",
    "gpuNum": 1,
    "hideHardwareSpecs": false,
    "memoryGiB": 16,
    "name": "ml.g4dn.xlarge",
    "vcpuNum": 4
   },
   {
    "_defaultOrder": 30,
    "_isFastLaunch": false,
    "category": "Accelerated computing",
    "gpuNum": 1,
    "hideHardwareSpecs": false,
    "memoryGiB": 32,
    "name": "ml.g4dn.2xlarge",
    "vcpuNum": 8
   },
   {
    "_defaultOrder": 31,
    "_isFastLaunch": false,
    "category": "Accelerated computing",
    "gpuNum": 1,
    "hideHardwareSpecs": false,
    "memoryGiB": 64,
    "name": "ml.g4dn.4xlarge",
    "vcpuNum": 16
   },
   {
    "_defaultOrder": 32,
    "_isFastLaunch": false,
    "category": "Accelerated computing",
    "gpuNum": 1,
    "hideHardwareSpecs": false,
    "memoryGiB": 128,
    "name": "ml.g4dn.8xlarge",
    "vcpuNum": 32
   },
   {
    "_defaultOrder": 33,
    "_isFastLaunch": false,
    "category": "Accelerated computing",
    "gpuNum": 4,
    "hideHardwareSpecs": false,
    "memoryGiB": 192,
    "name": "ml.g4dn.12xlarge",
    "vcpuNum": 48
   },
   {
    "_defaultOrder": 34,
    "_isFastLaunch": false,
    "category": "Accelerated computing",
    "gpuNum": 1,
    "hideHardwareSpecs": false,
    "memoryGiB": 256,
    "name": "ml.g4dn.16xlarge",
    "vcpuNum": 64
   },
   {
    "_defaultOrder": 35,
    "_isFastLaunch": false,
    "category": "Accelerated computing",
    "gpuNum": 1,
    "hideHardwareSpecs": false,
    "memoryGiB": 61,
    "name": "ml.p3.2xlarge",
    "vcpuNum": 8
   },
   {
    "_defaultOrder": 36,
    "_isFastLaunch": false,
    "category": "Accelerated computing",
    "gpuNum": 4,
    "hideHardwareSpecs": false,
    "memoryGiB": 244,
    "name": "ml.p3.8xlarge",
    "vcpuNum": 32
   },
   {
    "_defaultOrder": 37,
    "_isFastLaunch": false,
    "category": "Accelerated computing",
    "gpuNum": 8,
    "hideHardwareSpecs": false,
    "memoryGiB": 488,
    "name": "ml.p3.16xlarge",
    "vcpuNum": 64
   },
   {
    "_defaultOrder": 38,
    "_isFastLaunch": false,
    "category": "Accelerated computing",
    "gpuNum": 8,
    "hideHardwareSpecs": false,
    "memoryGiB": 768,
    "name": "ml.p3dn.24xlarge",
    "vcpuNum": 96
   },
   {
    "_defaultOrder": 39,
    "_isFastLaunch": false,
    "category": "Memory Optimized",
    "gpuNum": 0,
    "hideHardwareSpecs": false,
    "memoryGiB": 16,
    "name": "ml.r5.large",
    "vcpuNum": 2
   },
   {
    "_defaultOrder": 40,
    "_isFastLaunch": false,
    "category": "Memory Optimized",
    "gpuNum": 0,
    "hideHardwareSpecs": false,
    "memoryGiB": 32,
    "name": "ml.r5.xlarge",
    "vcpuNum": 4
   },
   {
    "_defaultOrder": 41,
    "_isFastLaunch": false,
    "category": "Memory Optimized",
    "gpuNum": 0,
    "hideHardwareSpecs": false,
    "memoryGiB": 64,
    "name": "ml.r5.2xlarge",
    "vcpuNum": 8
   },
   {
    "_defaultOrder": 42,
    "_isFastLaunch": false,
    "category": "Memory Optimized",
    "gpuNum": 0,
    "hideHardwareSpecs": false,
    "memoryGiB": 128,
    "name": "ml.r5.4xlarge",
    "vcpuNum": 16
   },
   {
    "_defaultOrder": 43,
    "_isFastLaunch": false,
    "category": "Memory Optimized",
    "gpuNum": 0,
    "hideHardwareSpecs": false,
    "memoryGiB": 256,
    "name": "ml.r5.8xlarge",
    "vcpuNum": 32
   },
   {
    "_defaultOrder": 44,
    "_isFastLaunch": false,
    "category": "Memory Optimized",
    "gpuNum": 0,
    "hideHardwareSpecs": false,
    "memoryGiB": 384,
    "name": "ml.r5.12xlarge",
    "vcpuNum": 48
   },
   {
    "_defaultOrder": 45,
    "_isFastLaunch": false,
    "category": "Memory Optimized",
    "gpuNum": 0,
    "hideHardwareSpecs": false,
    "memoryGiB": 512,
    "name": "ml.r5.16xlarge",
    "vcpuNum": 64
   },
   {
    "_defaultOrder": 46,
    "_isFastLaunch": false,
    "category": "Memory Optimized",
    "gpuNum": 0,
    "hideHardwareSpecs": false,
    "memoryGiB": 768,
    "name": "ml.r5.24xlarge",
    "vcpuNum": 96
   },
   {
    "_defaultOrder": 47,
    "_isFastLaunch": false,
    "category": "Accelerated computing",
    "gpuNum": 1,
    "hideHardwareSpecs": false,
    "memoryGiB": 16,
    "name": "ml.g5.xlarge",
    "vcpuNum": 4
   },
   {
    "_defaultOrder": 48,
    "_isFastLaunch": false,
    "category": "Accelerated computing",
    "gpuNum": 1,
    "hideHardwareSpecs": false,
    "memoryGiB": 32,
    "name": "ml.g5.2xlarge",
    "vcpuNum": 8
   },
   {
    "_defaultOrder": 49,
    "_isFastLaunch": false,
    "category": "Accelerated computing",
    "gpuNum": 1,
    "hideHardwareSpecs": false,
    "memoryGiB": 64,
    "name": "ml.g5.4xlarge",
    "vcpuNum": 16
   },
   {
    "_defaultOrder": 50,
    "_isFastLaunch": false,
    "category": "Accelerated computing",
    "gpuNum": 1,
    "hideHardwareSpecs": false,
    "memoryGiB": 128,
    "name": "ml.g5.8xlarge",
    "vcpuNum": 32
   },
   {
    "_defaultOrder": 51,
    "_isFastLaunch": false,
    "category": "Accelerated computing",
    "gpuNum": 1,
    "hideHardwareSpecs": false,
    "memoryGiB": 256,
    "name": "ml.g5.16xlarge",
    "vcpuNum": 64
   },
   {
    "_defaultOrder": 52,
    "_isFastLaunch": false,
    "category": "Accelerated computing",
    "gpuNum": 4,
    "hideHardwareSpecs": false,
    "memoryGiB": 192,
    "name": "ml.g5.12xlarge",
    "vcpuNum": 48
   },
   {
    "_defaultOrder": 53,
    "_isFastLaunch": false,
    "category": "Accelerated computing",
    "gpuNum": 4,
    "hideHardwareSpecs": false,
    "memoryGiB": 384,
    "name": "ml.g5.24xlarge",
    "vcpuNum": 96
   },
   {
    "_defaultOrder": 54,
    "_isFastLaunch": false,
    "category": "Accelerated computing",
    "gpuNum": 8,
    "hideHardwareSpecs": false,
    "memoryGiB": 768,
    "name": "ml.g5.48xlarge",
    "vcpuNum": 192
   },
   {
    "_defaultOrder": 55,
    "_isFastLaunch": false,
    "category": "Accelerated computing",
    "gpuNum": 8,
    "hideHardwareSpecs": false,
    "memoryGiB": 1152,
    "name": "ml.p4d.24xlarge",
    "vcpuNum": 96
   },
   {
    "_defaultOrder": 56,
    "_isFastLaunch": false,
    "category": "Accelerated computing",
    "gpuNum": 8,
    "hideHardwareSpecs": false,
    "memoryGiB": 1152,
    "name": "ml.p4de.24xlarge",
    "vcpuNum": 96
   }
  ],
  "instance_type": "ml.g4dn.xlarge",
  "kernelspec": {
   "display_name": "Python 3 (PyTorch 1.13 Python 3.9 GPU Optimized)",
   "language": "python",
   "name": "python3__SAGEMAKER_INTERNAL__arn:aws:sagemaker:us-east-1:081325390199:image/pytorch-1.13-gpu-py39"
  },
  "language_info": {
   "codemirror_mode": {
    "name": "ipython",
    "version": 3
   },
   "file_extension": ".py",
   "mimetype": "text/x-python",
   "name": "python",
   "nbconvert_exporter": "python",
   "pygments_lexer": "ipython3",
   "version": "3.9.16"
  }
 },
 "nbformat": 4,
 "nbformat_minor": 5
}
