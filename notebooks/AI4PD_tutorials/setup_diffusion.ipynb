{
 "cells": [
  {
   "cell_type": "markdown",
   "metadata": {},
   "source": [
    "NOTE: The authors recommend running this notebook in Amazon SageMaker Studio with the following environment settings:  \n",
    "* **PyTorch 1.13 Python 3.9 GPU-optimized** image  \n",
    "* **Python 3** kernel  \n",
    "* **ml.g4dn.xlarge** instance type "
   ]
  }
 ],
 "metadata": {
  "language_info": {
   "name": "python"
  },
  "orig_nbformat": 4
 },
 "nbformat": 4,
 "nbformat_minor": 2
}
