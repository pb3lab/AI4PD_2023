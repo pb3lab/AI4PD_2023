{
 "cells": [
  {
   "cell_type": "markdown",
   "id": "e959558c-12f4-41d6-9e34-44cd47631fcc",
   "metadata": {},
   "source": [
    "# Calculate RMSDs\n",
    "Use ProDy to calculate RMSDs between two pdbs"
   ]
  },
  {
   "cell_type": "code",
   "execution_count": 2,
   "id": "4e9a268d-5460-4467-9599-9160b8745641",
   "metadata": {},
   "outputs": [
    {
     "name": "stdout",
     "output_type": "stream",
     "text": [
      "Requirement already satisfied: prody in /home/heisen/.local/lib/python3.10/site-packages (2.3.1)\n",
      "Requirement already satisfied: tqdm in /home/heisen/.local/lib/python3.10/site-packages (4.64.1)\n",
      "Requirement already satisfied: scipy in /home/heisen/.local/lib/python3.10/site-packages (from prody) (1.9.2)\n",
      "Requirement already satisfied: biopython in /home/heisen/.local/lib/python3.10/site-packages (from prody) (1.81)\n",
      "Requirement already satisfied: numpy>=1.10 in /usr/lib/python3.10/site-packages (from prody) (1.23.5)\n",
      "Requirement already satisfied: pyparsing in /usr/lib/python3.10/site-packages (from prody) (3.0.9)\n"
     ]
    }
   ],
   "source": [
    "!pip install prody"
   ]
  },
  {
   "cell_type": "code",
   "execution_count": null,
   "id": "2e4f4e55-3f3d-4525-a8b3-7f9178f56da3",
   "metadata": {},
   "outputs": [],
   "source": [
    "prediction_pdb = '' # this is the path to your AF2/ESMFold Prediction\n",
    "reference_pdb = '' # this is the path to your original de novo design (prior to sequence design)"
   ]
  },
  {
   "cell_type": "code",
   "execution_count": 34,
   "id": "b1f69436-9cbf-4bae-a830-d239fe4cae60",
   "metadata": {},
   "outputs": [],
   "source": [
    "def rmsd_calc(pred, ref):\n",
    "    import prody\n",
    "    prody.confProDy(verbosity='none')\n",
    "    \n",
    "    p = prody.parsePDB(pred,subset='ca')\n",
    "    r = prody.parsePDB(ref,subset='ca')\n",
    "    prody.calcTransformation(p,r).apply(p)\n",
    "    \n",
    "    return prody.calcRMSD(p, r)"
   ]
  },
  {
   "cell_type": "code",
   "execution_count": 35,
   "id": "35fe5d20-7cf4-4993-a162-9345cf9d5af3",
   "metadata": {},
   "outputs": [
    {
     "name": "stdout",
     "output_type": "stream",
     "text": [
      "CPU times: user 95.6 ms, sys: 3.99 ms, total: 99.5 ms\n",
      "Wall time: 104 ms\n"
     ]
    },
    {
     "data": {
      "text/plain": [
       "3.4878227939315765"
      ]
     },
     "execution_count": 35,
     "metadata": {},
     "output_type": "execute_result"
    }
   ],
   "source": [
    "%time rmsd_calc(prediction_pdb,reference_pdb)"
   ]
  },
  {
   "cell_type": "code",
   "execution_count": null,
   "id": "b6b2e3df-879f-4599-a796-826e811692b4",
   "metadata": {},
   "outputs": [],
   "source": []
  }
 ],
 "metadata": {
  "kernelspec": {
   "display_name": "SE3nv",
   "language": "python",
   "name": "se3nv"
  },
  "language_info": {
   "codemirror_mode": {
    "name": "ipython",
    "version": 3
   },
   "file_extension": ".py",
   "mimetype": "text/x-python",
   "name": "python",
   "nbconvert_exporter": "python",
   "pygments_lexer": "ipython3",
   "version": "3.10.8"
  }
 },
 "nbformat": 4,
 "nbformat_minor": 5
}
